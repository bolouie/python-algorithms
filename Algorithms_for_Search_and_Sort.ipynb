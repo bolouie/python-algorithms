{
  "cells": [
    {
      "cell_type": "markdown",
      "metadata": {
        "id": "view-in-github",
        "colab_type": "text"
      },
      "source": [
        "<a href=\"https://colab.research.google.com/github/bolouie/python-algorithms/blob/main/Algorithms_for_Search_and_Sort.ipynb\" target=\"_parent\"><img src=\"https://colab.research.google.com/assets/colab-badge.svg\" alt=\"Open In Colab\"/></a>"
      ]
    },
    {
      "cell_type": "markdown",
      "metadata": {
        "id": "HMRZfHr-dxfg"
      },
      "source": [
        "## Linear Search"
      ]
    },
    {
      "cell_type": "markdown",
      "source": [
        ""
      ],
      "metadata": {
        "id": "HwadqRm6gs_I"
      }
    },
    {
      "cell_type": "code",
      "execution_count": null,
      "metadata": {
        "id": "Wv9z0vgDdxfk"
      },
      "outputs": [],
      "source": [
        "def linear_search(item, my_list):\n",
        "  i = 0\n",
        "  found = False\n",
        "\n",
        "  while i < len(my_list) and found == False:\n",
        "    if my_list[i] == item:\n",
        "      found = True\n",
        "    else:\n",
        "      i = i + 1\n",
        "  return found"
      ]
    },
    {
      "cell_type": "code",
      "execution_count": null,
      "metadata": {
        "colab": {
          "base_uri": "https://localhost:8080/"
        },
        "id": "lDcCdkrpdxfm",
        "outputId": "619c0e40-d059-4b65-9d82-fcc7d34c5596"
      },
      "outputs": [
        {
          "output_type": "stream",
          "name": "stdout",
          "text": [
            "True\n",
            "False\n"
          ]
        }
      ],
      "source": [
        "test = [6,5,8,2,3,45,87,24,70]\n",
        "print(linear_search(87,test))\n",
        "print(linear_search(88,test))"
      ]
    },
    {
      "cell_type": "markdown",
      "metadata": {
        "id": "mRhpSSppdxfn"
      },
      "source": [
        "## Binary Search"
      ]
    },
    {
      "cell_type": "code",
      "execution_count": null,
      "metadata": {
        "id": "WgqWlSJYdxfo"
      },
      "outputs": [],
      "source": [
        "def binary_search(item, my_list):\n",
        "    found = False\n",
        "    first = 0\n",
        "    last = len(my_list) - 1\n",
        "    \n",
        "    while first <= last and found == False:\n",
        "        midpoint = (first + last)//2\n",
        "        if my_list[midpoint] == item:\n",
        "            found = True\n",
        "        else:\n",
        "            if my_list[midpoint] < item:\n",
        "                first = midpoint + 1\n",
        "            else:\n",
        "                last = midpoint - 1\n",
        "    return found            \n",
        "    "
      ]
    },
    {
      "cell_type": "code",
      "execution_count": null,
      "metadata": {
        "id": "Ib9jwwdcdxfo",
        "outputId": "ae4392dc-878d-4f18-8898-072927cc68dd"
      },
      "outputs": [
        {
          "name": "stdout",
          "output_type": "stream",
          "text": [
            "True\n",
            "False\n"
          ]
        }
      ],
      "source": [
        "test = [6,5,8,2,3,45,87,24,70]\n",
        "print(linear_search(87,test))\n",
        "print(linear_search(88,test))"
      ]
    },
    {
      "cell_type": "markdown",
      "metadata": {
        "id": "4fmuqvpcdxfp"
      },
      "source": [
        "## Bubble Sort"
      ]
    },
    {
      "cell_type": "code",
      "execution_count": null,
      "metadata": {
        "id": "QWDWWnnldxfp"
      },
      "outputs": [],
      "source": [
        "def bubble_sort(my_list):\n",
        "    swap_again = True\n",
        "    n = len(my_list)\n",
        "    while n > 0 and swap_again == True:\n",
        "        n = n - 1\n",
        "        swap_again == False\n",
        "        \n",
        "        for i in range(n):\n",
        "            if my_list[i] > my_list[i+1]:\n",
        "                my_list[i], my_list[i+1] = my_list[i+1], my_list[i]\n",
        "                swap_again = True\n",
        "    return my_list             "
      ]
    },
    {
      "cell_type": "code",
      "execution_count": null,
      "metadata": {
        "id": "pyrP_Nefdxfq",
        "outputId": "c50aab8d-891a-47a9-f75e-eb5ec8031ee8"
      },
      "outputs": [
        {
          "name": "stdout",
          "output_type": "stream",
          "text": [
            "[2, 3, 5, 6, 8, 24, 45, 70, 87]\n"
          ]
        }
      ],
      "source": [
        "test_2 = [70,24,87,45,6,3,2,8,5]\n",
        "print(bubble_sort(test_2))"
      ]
    },
    {
      "cell_type": "markdown",
      "metadata": {
        "id": "cRi8fOIpdxfq"
      },
      "source": [
        "## Insertion Sort"
      ]
    },
    {
      "cell_type": "code",
      "execution_count": null,
      "metadata": {
        "id": "fomWQWotdxfr"
      },
      "outputs": [],
      "source": [
        "def insertion_sort(my_list):\n",
        "    n = len(my_list)\n",
        "    for i in range(1,n):\n",
        "        value = my_list[i]\n",
        "        j = i\n",
        "        while j > 0 and my_list[j-1] > value:\n",
        "            my_list[j] = my_list[j-1]\n",
        "            j = j - 1\n",
        "        my_list[j] = value\n",
        "    return my_list     "
      ]
    },
    {
      "cell_type": "code",
      "execution_count": null,
      "metadata": {
        "id": "8vnDyHcTdxfr",
        "outputId": "4a525609-7591-4708-bcb3-d807f167c350"
      },
      "outputs": [
        {
          "name": "stdout",
          "output_type": "stream",
          "text": [
            "[2, 3, 5, 6, 8, 24, 45, 70, 87]\n"
          ]
        }
      ],
      "source": [
        "test_2 = [70,24,87,45,6,3,2,8,5]\n",
        "print(bubble_sort(test_2))"
      ]
    },
    {
      "cell_type": "code",
      "execution_count": null,
      "metadata": {
        "id": "VXJgd02Qdxfs"
      },
      "outputs": [],
      "source": [
        ""
      ]
    }
  ],
  "metadata": {
    "kernelspec": {
      "display_name": "Python 3",
      "language": "python",
      "name": "python3"
    },
    "language_info": {
      "codemirror_mode": {
        "name": "ipython",
        "version": 3
      },
      "file_extension": ".py",
      "mimetype": "text/x-python",
      "name": "python",
      "nbconvert_exporter": "python",
      "pygments_lexer": "ipython3",
      "version": "3.7.4"
    },
    "colab": {
      "name": "Algorithms_for_Search_and_Sort.ipynb",
      "provenance": [],
      "collapsed_sections": [],
      "include_colab_link": true
    }
  },
  "nbformat": 4,
  "nbformat_minor": 0
}